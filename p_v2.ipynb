{
 "cells": [
  {
   "cell_type": "code",
   "execution_count": 2,
   "id": "42947922",
   "metadata": {},
   "outputs": [],
   "source": [
    "import numpy as np\n",
    "import pandas as pd\n",
    "# conda install py-xgboost\n",
    "import xgboost as xgb\n",
    "from plotnine import *\n",
    "import matplotlib.pyplot as plt\n",
    "import sklearn.metrics as metrics\n",
    "from sklearn.utils import shuffle\n",
    "from sklearn import preprocessing\n",
    "from sklearn.metrics import confusion_matrix, roc_curve\n",
    "from sklearn.metrics import accuracy_score, precision_score, recall_score\n",
    "from sklearn.neural_network import MLPClassifier\n",
    "from sklearn.ensemble import RandomForestClassifier\n",
    "from sklearn.model_selection import train_test_split\n",
    "from sklearn.metrics import plot_confusion_matrix\n",
    "import matplotlib.pyplot as plt\n",
    "\n",
    "import warnings\n",
    "warnings.filterwarnings(\"ignore\")"
   ]
  },
  {
   "cell_type": "markdown",
   "id": "9181075a",
   "metadata": {},
   "source": [
    "## Read Data and Data Engineering"
   ]
  },
  {
   "cell_type": "code",
   "execution_count": 3,
   "id": "9b7629eb",
   "metadata": {},
   "outputs": [],
   "source": [
    "data = pd.read_csv('Raw_material.csv')"
   ]
  },
  {
   "cell_type": "code",
   "execution_count": 4,
   "id": "42b7965f",
   "metadata": {},
   "outputs": [
    {
     "name": "stdout",
     "output_type": "stream",
     "text": [
      "<class 'pandas.core.frame.DataFrame'>\n",
      "RangeIndex: 25369 entries, 0 to 25368\n",
      "Data columns (total 18 columns):\n",
      " #   Column                  Non-Null Count  Dtype \n",
      "---  ------                  --------------  ----- \n",
      " 0   Survey_Year             25369 non-null  int64 \n",
      " 1   Expect_Children_Number  25369 non-null  int64 \n",
      " 2   District                25369 non-null  object\n",
      " 3   Province                25369 non-null  object\n",
      " 4   Gender                  25369 non-null  object\n",
      " 5   Born_Year               25369 non-null  int64 \n",
      " 6   Age                     25369 non-null  int64 \n",
      " 7   Nation                  25369 non-null  object\n",
      " 8   Health                  25369 non-null  object\n",
      " 9   Education               25340 non-null  object\n",
      " 10  Marriage                25369 non-null  object\n",
      " 11  Income                  25369 non-null  object\n",
      " 12  Household_Size          25369 non-null  int64 \n",
      " 13  Religion                25369 non-null  object\n",
      " 14  Health_Insurance        25369 non-null  object\n",
      " 15  Hukou                   25369 non-null  object\n",
      " 16  House_Property          13566 non-null  object\n",
      " 17  Working_Sector          5930 non-null   object\n",
      "dtypes: int64(5), object(13)\n",
      "memory usage: 3.5+ MB\n"
     ]
    }
   ],
   "source": [
    "data.info()"
   ]
  },
  {
   "cell_type": "markdown",
   "id": "bfc327cd",
   "metadata": {},
   "source": [
    "## Data clean and Engineering"
   ]
  },
  {
   "cell_type": "code",
   "execution_count": 5,
   "id": "e64c37bc",
   "metadata": {},
   "outputs": [],
   "source": [
    "# target label\n",
    "target = 'Expect_Children_Number'\n",
    "# Remove attributes with too many missing values\n",
    "data.drop(['House_Property', 'Working_Sector'], axis=1, inplace=True)\n",
    "# Exclude the sample of women whose age is less than or equal to 20 or age is greater than or equal to 50\n",
    "data.drop(data[(data['Gender'] == '女') & ((data['Age'] <= 20) | (data['Age'] >= 50))].index, inplace=True)"
   ]
  },
  {
   "cell_type": "code",
   "execution_count": 6,
   "id": "2d746c4f",
   "metadata": {},
   "outputs": [],
   "source": [
    "# 删除表中含有Nan的行\n",
    "data.dropna(axis=0, how='any', inplace=True)"
   ]
  },
  {
   "cell_type": "code",
   "execution_count": 7,
   "id": "ea49c106",
   "metadata": {},
   "outputs": [],
   "source": [
    "# 去除Expect_Children_Number >= 10的样本\n",
    "data.drop(data[data[target] >= 10].index, inplace=True)"
   ]
  },
  {
   "cell_type": "code",
   "execution_count": 8,
   "id": "d53427e7",
   "metadata": {},
   "outputs": [
    {
     "data": {
      "text/plain": [
       "count    16735.000000\n",
       "mean         1.567553\n",
       "std          0.976152\n",
       "min          0.000000\n",
       "25%          1.000000\n",
       "50%          1.000000\n",
       "75%          2.000000\n",
       "max          3.000000\n",
       "Name: District, dtype: float64"
      ]
     },
     "execution_count": 8,
     "metadata": {},
     "output_type": "execute_result"
    }
   ],
   "source": [
    "# District 中文 -> 数值\n",
    "data.loc[data['District'] == '中', 'District'] = 2\n",
    "data.loc[data['District'] == '东', 'District'] = 1\n",
    "data.loc[data['District'] == '西', 'District'] = 3\n",
    "data.loc[data['District'] == '东北', 'District'] = 0\n",
    "data['District'] = data['District'].astype(int)\n",
    "data['District'].describe()"
   ]
  },
  {
   "cell_type": "code",
   "execution_count": 9,
   "id": "fc17790f",
   "metadata": {},
   "outputs": [],
   "source": [
    "# 去除Province\n",
    "data.drop('Province', axis=1, inplace=True)"
   ]
  },
  {
   "cell_type": "code",
   "execution_count": 10,
   "id": "5ae7f785",
   "metadata": {},
   "outputs": [
    {
     "data": {
      "text/plain": [
       "count    16735.000000\n",
       "mean         0.672543\n",
       "std          0.469300\n",
       "min          0.000000\n",
       "25%          0.000000\n",
       "50%          1.000000\n",
       "75%          1.000000\n",
       "max          1.000000\n",
       "Name: Gender, dtype: float64"
      ]
     },
     "execution_count": 10,
     "metadata": {},
     "output_type": "execute_result"
    }
   ],
   "source": [
    "# Gender: 中文 -> 数值\n",
    "data.loc[data['Gender'] == '男', 'Gender'] = 1\n",
    "data.loc[data['Gender'] == '女', 'Gender'] = 0\n",
    "data['Gender'] = data['Gender'].astype(int)\n",
    "data['Gender'].describe()"
   ]
  },
  {
   "cell_type": "code",
   "execution_count": 11,
   "id": "237c302a",
   "metadata": {},
   "outputs": [],
   "source": [
    "# 去除Born_Year列，但要先去除Survey_Year - Born_Year + 1 != Age的样本\n",
    "data.drop(data[(data['Survey_Year'] - data['Born_Year'] + 1) != data['Age']].index, inplace=True)\n",
    "data.drop('Born_Year', axis=1, inplace=True)"
   ]
  },
  {
   "cell_type": "code",
   "execution_count": 12,
   "id": "03c26d23",
   "metadata": {},
   "outputs": [
    {
     "data": {
      "text/plain": [
       "count    16735.000000\n",
       "mean         0.075411\n",
       "std          0.264061\n",
       "min          0.000000\n",
       "25%          0.000000\n",
       "50%          0.000000\n",
       "75%          0.000000\n",
       "max          1.000000\n",
       "Name: Nation, dtype: float64"
      ]
     },
     "execution_count": 12,
     "metadata": {},
     "output_type": "execute_result"
    }
   ],
   "source": [
    "# Nation的 '回', '维', '蒙', '藏', '满', '壮', ‘其他’作为一类\n",
    "# 中文 -> 数值\n",
    "for nation in data['Nation'].unique():\n",
    "    if nation == '汉':\n",
    "        data.loc[data['Nation'] == nation, 'Nation'] = 0\n",
    "    else:\n",
    "        data.loc[data['Nation'] == nation, 'Nation'] = 1\n",
    "data['Nation'] = data['Nation'].astype(int)\n",
    "data['Nation'].describe()"
   ]
  },
  {
   "cell_type": "code",
   "execution_count": 13,
   "id": "6646e22b",
   "metadata": {},
   "outputs": [
    {
     "data": {
      "text/plain": [
       "count    16730.000000\n",
       "mean         2.681351\n",
       "std          1.039086\n",
       "min          0.000000\n",
       "25%          2.000000\n",
       "50%          3.000000\n",
       "75%          3.000000\n",
       "max          4.000000\n",
       "Name: Health, dtype: float64"
      ]
     },
     "execution_count": 13,
     "metadata": {},
     "output_type": "execute_result"
    }
   ],
   "source": [
    "# 去除Health的“拒绝回答” “不知道”\n",
    "data.drop(data[(data['Health'] == '不知道') | (data['Health'] == '拒绝回答')].index, inplace=True)\n",
    "# Health 分级 从很不健康到很健康分为 5个等级 0, 1, 2, 3, 4\n",
    "data.loc[data['Health'] == '很不健康', 'Health'] = 0\n",
    "data.loc[data['Health'] == '比较不健康', 'Health'] = 1\n",
    "data.loc[data['Health'] == '一般', 'Health'] = 2\n",
    "data.loc[data['Health'] == '比较健康', 'Health'] = 3\n",
    "data.loc[data['Health'] == '很健康', 'Health'] = 4\n",
    "data['Health'] = data['Health'].astype(int)\n",
    "data['Health'].describe()"
   ]
  },
  {
   "cell_type": "code",
   "execution_count": 14,
   "id": "2ea302b5",
   "metadata": {},
   "outputs": [
    {
     "data": {
      "text/plain": [
       "count    16647.000000\n",
       "mean         2.389019\n",
       "std          1.269205\n",
       "min          0.000000\n",
       "25%          1.000000\n",
       "50%          2.000000\n",
       "75%          4.000000\n",
       "max          5.000000\n",
       "Name: Education, dtype: float64"
      ]
     },
     "execution_count": 14,
     "metadata": {},
     "output_type": "execute_result"
    }
   ],
   "source": [
    "# 去除Education 的 ‘其他’ '私塾'\n",
    "data.drop(data[(data['Education'] == '其他') | (data['Education'] == '私塾、扫盲班')].index, inplace=True)\n",
    "# 分为6类， 文盲，小学，初中，高中(中专， 技校，职业高中)，大学（大专），研究生\n",
    "data.loc[data['Education'] == '没有受过任何教育', 'Education'] = 0\n",
    "data.loc[data['Education'] == '小学', 'Education'] = 1\n",
    "data.loc[data['Education'] == '初中', 'Education'] = 2\n",
    "data.loc[(data['Education'] == '普通高中') | \n",
    "         (data['Education'] == '中专') |\n",
    "         (data['Education'] == '职业高中') |\n",
    "         (data['Education'] == '技校'), 'Education'] = 3\n",
    "data.loc[(data['Education'] == '大学本科（正规高等教育）') |\n",
    "         (data['Education'] == '大学专科（正规高等教育）') |\n",
    "         (data['Education'] == '大学专科（成人高等教育）') |\n",
    "         (data['Education'] == '大学本科（成人高等教育）'), 'Education'] = 4\n",
    "data.loc[data['Education'] == '研究生及以上', 'Education'] = 5\n",
    "data['Education'] = data['Education'].astype(int)\n",
    "data['Education'].describe()"
   ]
  },
  {
   "cell_type": "code",
   "execution_count": 15,
   "id": "9cc00649",
   "metadata": {},
   "outputs": [
    {
     "data": {
      "text/plain": [
       "count    16216.000000\n",
       "mean         0.812099\n",
       "std          0.434871\n",
       "min          0.000000\n",
       "25%          1.000000\n",
       "50%          1.000000\n",
       "75%          1.000000\n",
       "max          2.000000\n",
       "Name: Marriage, dtype: float64"
      ]
     },
     "execution_count": 15,
     "metadata": {},
     "output_type": "execute_result"
    }
   ],
   "source": [
    "# Marriage 分类 初婚有配偶 再婚有配偶 未有配偶\n",
    "data.loc[data['Marriage'] == '初婚有配偶', 'Marriage'] = 1\n",
    "data.loc[data['Marriage'] == '再婚有配偶', 'Marriage'] = 2\n",
    "\n",
    "data.loc[(data['Marriage'] == '未婚') | \n",
    "         (data['Marriage'] == '丧偶') |\n",
    "         (data['Marriage'] == '离婚'), 'Marriage'] = 0\n",
    "data.drop(data[(data['Marriage'] == '同居') | (data['Marriage'] == '分居未离婚')].index, inplace=True)\n",
    "data['Marriage'] = data['Marriage'].astype(int)\n",
    "data['Marriage'].describe()"
   ]
  },
  {
   "cell_type": "code",
   "execution_count": 16,
   "id": "4bca1094",
   "metadata": {},
   "outputs": [
    {
     "data": {
      "text/plain": [
       "count    16097.000000\n",
       "mean         1.602038\n",
       "std          0.727745\n",
       "min          0.000000\n",
       "25%          1.000000\n",
       "50%          2.000000\n",
       "75%          2.000000\n",
       "max          4.000000\n",
       "Name: Income, dtype: float64"
      ]
     },
     "execution_count": 16,
     "metadata": {},
     "output_type": "execute_result"
    }
   ],
   "source": [
    "# 去除Income的“不知道”和”拒绝回答“\n",
    "data.drop(data[(data['Income'] == '不知道') | (data['Income'] == '拒绝回答')].index, inplace=True)\n",
    "# Income 分级 从远低于平均水平 到 远高于平均水平分级 0，1，2，3，4\n",
    "data.loc[data['Income'] == '远低于平均水平', 'Income'] = 0\n",
    "data.loc[data['Income'] == '低于平均水平', 'Income'] = 1\n",
    "data.loc[data['Income'] == '平均水平', 'Income'] = 2\n",
    "data.loc[data['Income'] == '高于平均水平', 'Income'] = 3\n",
    "data.loc[data['Income'] == '远高于平均水平', 'Income'] = 4\n",
    "data['Income'] = data['Income'].astype(int)\n",
    "data['Income'].describe()"
   ]
  },
  {
   "cell_type": "code",
   "execution_count": 17,
   "id": "489ee43e",
   "metadata": {},
   "outputs": [
    {
     "data": {
      "text/plain": [
       "count    16053.000000\n",
       "mean         2.928113\n",
       "std          1.392440\n",
       "min          1.000000\n",
       "25%          2.000000\n",
       "50%          3.000000\n",
       "75%          4.000000\n",
       "max          9.000000\n",
       "Name: Household_Size, dtype: float64"
      ]
     },
     "execution_count": 17,
     "metadata": {},
     "output_type": "execute_result"
    }
   ],
   "source": [
    "# 去除Household_Size >= 10\n",
    "data.drop(data[data['Household_Size'] >= 10].index, inplace=True)\n",
    "data['Household_Size'].describe()"
   ]
  },
  {
   "cell_type": "code",
   "execution_count": 18,
   "id": "52fbdaaa",
   "metadata": {},
   "outputs": [
    {
     "data": {
      "text/plain": [
       "count    16053.000000\n",
       "mean         0.914346\n",
       "std          0.279861\n",
       "min          0.000000\n",
       "25%          1.000000\n",
       "50%          1.000000\n",
       "75%          1.000000\n",
       "max          1.000000\n",
       "Name: Religion, dtype: float64"
      ]
     },
     "execution_count": 18,
     "metadata": {},
     "output_type": "execute_result"
    }
   ],
   "source": [
    "# 中文 -> 数值\n",
    "data.loc[(data['Religion'] != '是') & (data['Religion'] != '不信仰宗教'), 'Religion'] = 0\n",
    "data.loc[(data['Religion'] == '是') | (data['Religion'] == '不信仰宗教'), 'Religion'] = 1\n",
    "data['Religion'] = data['Religion'].astype(int)\n",
    "data['Religion'].describe()"
   ]
  },
  {
   "cell_type": "code",
   "execution_count": 19,
   "id": "e8972aa7",
   "metadata": {},
   "outputs": [
    {
     "data": {
      "text/plain": [
       "count    15959.000000\n",
       "mean         0.922614\n",
       "std          0.267211\n",
       "min          0.000000\n",
       "25%          1.000000\n",
       "50%          1.000000\n",
       "75%          1.000000\n",
       "max          1.000000\n",
       "Name: Health_Insurance, dtype: float64"
      ]
     },
     "execution_count": 19,
     "metadata": {},
     "output_type": "execute_result"
    }
   ],
   "source": [
    "# 保留Health_Insurance的“参加”和“没有参加”\n",
    "data.drop(data[(data['Health_Insurance'] != '参加') & (data['Health_Insurance'] != '没有参加')].index, inplace=True)\n",
    "# 中文 -> 英文\n",
    "data.loc[data['Health_Insurance'] == '参加', 'Health_Insurance'] = 1\n",
    "data.loc[data['Health_Insurance'] == '没有参加', 'Health_Insurance'] = 0\n",
    "data['Health_Insurance'] = data['Health_Insurance'].astype(int)\n",
    "data['Health_Insurance'].describe()"
   ]
  },
  {
   "cell_type": "code",
   "execution_count": 20,
   "id": "6d01c3c0",
   "metadata": {},
   "outputs": [
    {
     "data": {
      "text/plain": [
       "count    15909.000000\n",
       "mean         0.546232\n",
       "std          0.497874\n",
       "min          0.000000\n",
       "25%          0.000000\n",
       "50%          1.000000\n",
       "75%          1.000000\n",
       "max          1.000000\n",
       "Name: Hukou, dtype: float64"
      ]
     },
     "execution_count": 20,
     "metadata": {},
     "output_type": "execute_result"
    }
   ],
   "source": [
    "# 保留Hukou的“农业户口”和“非农业户口”,并将“居民户口”合并为非农业户口\n",
    "data.loc[(data['Hukou'] == '居民户口（以前是非农业户口）') |\n",
    "         (data['Hukou'] == '居民户口（以前是农业户口）'), 'Hukou'] = '非农业户口'\n",
    "data.drop(data[(data['Hukou'] != '农业户口') & (data['Hukou'] != '非农业户口')].index, inplace=True)\n",
    "# 中文 -> 英文\n",
    "data.loc[data['Hukou'] == '农业户口', 'Hukou'] = 1\n",
    "data.loc[data['Hukou'] == '非农业户口', 'Hukou'] = 0\n",
    "data['Hukou'] = data['Hukou'].astype(int)\n",
    "data['Hukou'].describe()"
   ]
  },
  {
   "cell_type": "code",
   "execution_count": 21,
   "id": "b5284935",
   "metadata": {},
   "outputs": [
    {
     "data": {
      "text/plain": [
       "count    15909.000000\n",
       "mean         1.954051\n",
       "std          0.840401\n",
       "min          0.000000\n",
       "25%          2.000000\n",
       "50%          2.000000\n",
       "75%          2.000000\n",
       "max          8.000000\n",
       "Name: Expect_Children_Number, dtype: float64"
      ]
     },
     "execution_count": 21,
     "metadata": {},
     "output_type": "execute_result"
    }
   ],
   "source": [
    "data[target].describe()"
   ]
  },
  {
   "cell_type": "code",
   "execution_count": 22,
   "id": "58a6cae4",
   "metadata": {},
   "outputs": [
    {
     "data": {
      "text/plain": [
       "count    15909.000000\n",
       "mean        47.066629\n",
       "std         16.074790\n",
       "min         19.000000\n",
       "25%         34.000000\n",
       "50%         45.000000\n",
       "75%         59.000000\n",
       "max        104.000000\n",
       "Name: Age, dtype: float64"
      ]
     },
     "execution_count": 22,
     "metadata": {},
     "output_type": "execute_result"
    }
   ],
   "source": [
    "data['Age'].describe()"
   ]
  },
  {
   "cell_type": "code",
   "execution_count": 23,
   "id": "4dd6d174",
   "metadata": {},
   "outputs": [],
   "source": [
    "# target label\n",
    "data.loc[data[target] <= 1, target] = 0\n",
    "data.loc[data[target] >= 2, target] = 1"
   ]
  },
  {
   "cell_type": "code",
   "execution_count": 24,
   "id": "8e6e1f9b",
   "metadata": {},
   "outputs": [],
   "source": [
    "# 去除Survey_Year 并产生2017全体样本 和 2018全体样本\n",
    "data_2017 = data[data['Survey_Year'] == 2017]\n",
    "data_2018 = data[data['Survey_Year'] == 2018]\n",
    "data.drop('Survey_Year', axis=1, inplace=True)"
   ]
  },
  {
   "cell_type": "code",
   "execution_count": 25,
   "id": "40e6c2ef",
   "metadata": {},
   "outputs": [],
   "source": [
    "cols = list(data.columns)\n",
    "classify_cols = cols[1:]"
   ]
  },
  {
   "cell_type": "code",
   "execution_count": 26,
   "id": "c7cdad5e",
   "metadata": {},
   "outputs": [
    {
     "data": {
      "text/plain": [
       "['District',\n",
       " 'Gender',\n",
       " 'Age',\n",
       " 'Nation',\n",
       " 'Health',\n",
       " 'Education',\n",
       " 'Marriage',\n",
       " 'Income',\n",
       " 'Household_Size',\n",
       " 'Religion',\n",
       " 'Health_Insurance',\n",
       " 'Hukou']"
      ]
     },
     "execution_count": 26,
     "metadata": {},
     "output_type": "execute_result"
    }
   ],
   "source": [
    "classify_cols"
   ]
  },
  {
   "cell_type": "code",
   "execution_count": 27,
   "id": "9c2bc174",
   "metadata": {},
   "outputs": [
    {
     "data": {
      "text/plain": [
       "Index(['Expect_Children_Number', 'District', 'Gender', 'Age', 'Nation',\n",
       "       'Health', 'Education', 'Marriage', 'Income', 'Household_Size',\n",
       "       'Religion', 'Health_Insurance', 'Hukou'],\n",
       "      dtype='object')"
      ]
     },
     "execution_count": 27,
     "metadata": {},
     "output_type": "execute_result"
    }
   ],
   "source": [
    "data.columns"
   ]
  },
  {
   "cell_type": "markdown",
   "id": "d488b38b",
   "metadata": {},
   "source": [
    "## 训练集测试集划分"
   ]
  },
  {
   "cell_type": "code",
   "execution_count": 28,
   "id": "d367c69d",
   "metadata": {},
   "outputs": [],
   "source": [
    "X_neg = data[data[target] == 0]\n",
    "X_pos = data[data[target] == 1].sample(len(X_neg))\n",
    "new_data = pd.concat([X_neg, X_pos])\n",
    "new_data = shuffle(new_data)"
   ]
  },
  {
   "cell_type": "code",
   "execution_count": 29,
   "id": "df314fc8",
   "metadata": {},
   "outputs": [],
   "source": [
    "X = new_data.drop(target, axis=1)\n",
    "y = new_data[target]\n",
    "# 数据归一化\n",
    "X_ = preprocessing.scale(X)"
   ]
  },
  {
   "cell_type": "code",
   "execution_count": 30,
   "id": "1c6a97b2",
   "metadata": {},
   "outputs": [],
   "source": [
    "X_train, X_test, y_train, y_test = train_test_split(X_, y, test_size=0.3, shuffle=True, random_state=42)"
   ]
  },
  {
   "cell_type": "markdown",
   "id": "b845c89e",
   "metadata": {},
   "source": [
    "## B-P neural network"
   ]
  },
  {
   "cell_type": "code",
   "execution_count": 31,
   "id": "051b1169",
   "metadata": {},
   "outputs": [],
   "source": [
    "bp = MLPClassifier(hidden_layer_sizes=(4,), activation='relu',\n",
    "                   solver='adam', alpha=0.0001, batch_size='auto',\n",
    "                   learning_rate='adaptive', max_iter=10000)"
   ]
  },
  {
   "cell_type": "code",
   "execution_count": 32,
   "id": "c203ce5e",
   "metadata": {},
   "outputs": [
    {
     "data": {
      "text/plain": [
       "MLPClassifier(hidden_layer_sizes=(4,), learning_rate='adaptive', max_iter=10000)"
      ]
     },
     "execution_count": 32,
     "metadata": {},
     "output_type": "execute_result"
    }
   ],
   "source": [
    "bp.fit(X_train, y_train)"
   ]
  },
  {
   "cell_type": "code",
   "execution_count": 33,
   "id": "0eb74eb8",
   "metadata": {},
   "outputs": [
    {
     "data": {
      "text/plain": [
       "0.6444135373203523"
      ]
     },
     "execution_count": 33,
     "metadata": {},
     "output_type": "execute_result"
    }
   ],
   "source": [
    "bp.score(X_test, y_test)"
   ]
  },
  {
   "cell_type": "code",
   "execution_count": 34,
   "id": "fd0935ca",
   "metadata": {},
   "outputs": [
    {
     "data": {
      "image/png": "[encoded data removed]",
      "text/plain": [
       "<Figure size 432x288 with 2 Axes>"
      ]
     },
     "metadata": {
      "needs_background": "light"
     },
     "output_type": "display_data"
    }
   ],
   "source": [
    "disp = plot_confusion_matrix(bp, X_test, y_test, cmap=plt.cm.Blues)  # 混淆矩阵\n",
    "disp.ax_.set_title('B-P Neural Network Confusion Matrix')\n",
    "plt.show()"
   ]
  },
  {
   "cell_type": "markdown",
   "id": "57acfd61",
   "metadata": {},
   "source": [
    "## Random Forest"
   ]
  },
  {
   "cell_type": "code",
   "execution_count": 35,
   "id": "b3fc123c",
   "metadata": {},
   "outputs": [],
   "source": [
    "n_estimators = [i for i in range(1, 515, 15)]\n",
    "err = []\n",
    "for n_estimator in n_estimators:\n",
    "    rf = RandomForestClassifier(n_estimators=n_estimator)\n",
    "    rf.fit(X_train, y_train)\n",
    "    err.append(1 - rf.score(X_test, y_test))"
   ]
  },
  {
   "cell_type": "code",
   "execution_count": 36,
   "id": "1a68f4f9",
   "metadata": {},
   "outputs": [
    {
     "data": {
      "image/png": "[encoded data removed]",
      "text/plain": [
       "<Figure size 576x288 with 1 Axes>"
      ]
     },
     "metadata": {
      "needs_background": "light"
     },
     "output_type": "display_data"
    }
   ],
   "source": [
    "plt.figure(figsize=(8, 4))\n",
    "plt.title('Error vs Trees in Random Forest Classifier')\n",
    "plt.plot(n_estimators, err)\n",
    "plt.ylabel('Error'), plt.xlabel('Number of Trees')\n",
    "plt.show()"
   ]
  },
  {
   "cell_type": "code",
   "execution_count": 40,
   "id": "701d8085",
   "metadata": {},
   "outputs": [
    {
     "data": {
      "text/plain": [
       "RandomForestClassifier(n_estimators=376)"
      ]
     },
     "execution_count": 40,
     "metadata": {},
     "output_type": "execute_result"
    }
   ],
   "source": [
    "# 选择最优的n_estimators\n",
    "index = err.index(min(err))\n",
    "rf_best = RandomForestClassifier(n_estimators=n_estimators[index])\n",
    "rf_best.fit(X_train, y_train)"
   ]
  },
  {
   "cell_type": "code",
   "execution_count": 41,
   "id": "0cd903c9",
   "metadata": {},
   "outputs": [
    {
     "data": {
      "image/png": "[encoded data removed]",
      "text/plain": [
       "<Figure size 432x288 with 2 Axes>"
      ]
     },
     "metadata": {
      "needs_background": "light"
     },
     "output_type": "display_data"
    }
   ],
   "source": [
    "disp = plot_confusion_matrix(rf_best, X_test, y_test, cmap=plt.cm.Blues)  # 混淆矩阵\n",
    "disp.ax_.set_title('Random Forest Confusion Matrix')\n",
    "plt.show()"
   ]
  },
  {
   "cell_type": "code",
   "execution_count": 42,
   "id": "e476f6be",
   "metadata": {},
   "outputs": [],
   "source": [
    "# 重要因素排名 前10\n",
    "importances = rf_best.feature_importances_\n",
    "indices = np.argsort(importances)[::-1]\n",
    "df = {'Attrs': [], 'Importance': []}\n",
    "for i in range(10):\n",
    "    df['Attrs'].append(X.columns[indices[i]])\n",
    "    df['Importance'].append(importances[indices[i]])"
   ]
  },
  {
   "cell_type": "code",
   "execution_count": 43,
   "id": "553e5262",
   "metadata": {},
   "outputs": [
    {
     "data": {
      "text/html": [
       "<div>\n",
       "<style scoped>\n",
       "    .dataframe tbody tr th:only-of-type {\n",
       "        vertical-align: middle;\n",
       "    }\n",
       "\n",
       "    .dataframe tbody tr th {\n",
       "        vertical-align: top;\n",
       "    }\n",
       "\n",
       "    .dataframe thead th {\n",
       "        text-align: right;\n",
       "    }\n",
       "</style>\n",
       "<table border=\"1\" class=\"dataframe\">\n",
       "  <thead>\n",
       "    <tr style=\"text-align: right;\">\n",
       "      <th></th>\n",
       "      <th>Attrs</th>\n",
       "      <th>Importance</th>\n",
       "    </tr>\n",
       "  </thead>\n",
       "  <tbody>\n",
       "    <tr>\n",
       "      <th>0</th>\n",
       "      <td>Age</td>\n",
       "      <td>0.348856</td>\n",
       "    </tr>\n",
       "    <tr>\n",
       "      <th>1</th>\n",
       "      <td>Household_Size</td>\n",
       "      <td>0.112856</td>\n",
       "    </tr>\n",
       "    <tr>\n",
       "      <th>2</th>\n",
       "      <td>Health</td>\n",
       "      <td>0.105191</td>\n",
       "    </tr>\n",
       "    <tr>\n",
       "      <th>3</th>\n",
       "      <td>Education</td>\n",
       "      <td>0.098838</td>\n",
       "    </tr>\n",
       "    <tr>\n",
       "      <th>4</th>\n",
       "      <td>District</td>\n",
       "      <td>0.097088</td>\n",
       "    </tr>\n",
       "    <tr>\n",
       "      <th>5</th>\n",
       "      <td>Income</td>\n",
       "      <td>0.087151</td>\n",
       "    </tr>\n",
       "    <tr>\n",
       "      <th>6</th>\n",
       "      <td>Marriage</td>\n",
       "      <td>0.032206</td>\n",
       "    </tr>\n",
       "    <tr>\n",
       "      <th>7</th>\n",
       "      <td>Hukou</td>\n",
       "      <td>0.032030</td>\n",
       "    </tr>\n",
       "    <tr>\n",
       "      <th>8</th>\n",
       "      <td>Gender</td>\n",
       "      <td>0.029052</td>\n",
       "    </tr>\n",
       "    <tr>\n",
       "      <th>9</th>\n",
       "      <td>Health_Insurance</td>\n",
       "      <td>0.020847</td>\n",
       "    </tr>\n",
       "  </tbody>\n",
       "</table>\n",
       "</div>"
      ],
      "text/plain": [
       "              Attrs  Importance\n",
       "0               Age    0.348856\n",
       "1    Household_Size    0.112856\n",
       "2            Health    0.105191\n",
       "3         Education    0.098838\n",
       "4          District    0.097088\n",
       "5            Income    0.087151\n",
       "6          Marriage    0.032206\n",
       "7             Hukou    0.032030\n",
       "8            Gender    0.029052\n",
       "9  Health_Insurance    0.020847"
      ]
     },
     "execution_count": 43,
     "metadata": {},
     "output_type": "execute_result"
    }
   ],
   "source": [
    "rank = pd.DataFrame(df)\n",
    "rank"
   ]
  },
  {
   "cell_type": "markdown",
   "id": "9213bf65",
   "metadata": {},
   "source": [
    "## XG-Boost"
   ]
  },
  {
   "cell_type": "code",
   "execution_count": 44,
   "id": "c365d263",
   "metadata": {},
   "outputs": [],
   "source": [
    "clf = xgb.XGBClassifier()"
   ]
  },
  {
   "cell_type": "code",
   "execution_count": 45,
   "id": "444d281d",
   "metadata": {},
   "outputs": [
    {
     "data": {
      "text/plain": [
       "XGBClassifier(base_score=0.5, booster='gbtree', colsample_bylevel=1,\n",
       "              colsample_bynode=1, colsample_bytree=1, enable_categorical=False,\n",
       "              gamma=0, gpu_id=-1, importance_type=None,\n",
       "              interaction_constraints='', learning_rate=0.300000012,\n",
       "              max_delta_step=0, max_depth=6, min_child_weight=1, missing=nan,\n",
       "              monotone_constraints='()', n_estimators=100, n_jobs=8,\n",
       "              num_parallel_tree=1, predictor='auto', random_state=0,\n",
       "              reg_alpha=0, reg_lambda=1, scale_pos_weight=1, subsample=1,\n",
       "              tree_method='exact', validate_parameters=1, verbosity=None)"
      ]
     },
     "execution_count": 45,
     "metadata": {},
     "output_type": "execute_result"
    }
   ],
   "source": [
    "clf.fit(X_train, y_train, eval_metric='logloss')"
   ]
  },
  {
   "cell_type": "code",
   "execution_count": 46,
   "id": "261ac3cf",
   "metadata": {},
   "outputs": [
    {
     "data": {
      "text/plain": [
       "0.6332869726471951"
      ]
     },
     "execution_count": 46,
     "metadata": {},
     "output_type": "execute_result"
    }
   ],
   "source": [
    "clf.score(X_test, y_test)"
   ]
  },
  {
   "cell_type": "code",
   "execution_count": 47,
   "id": "6175dda3",
   "metadata": {},
   "outputs": [
    {
     "data": {
      "image/png": "[encoded data removed]",
      "text/plain": [
       "<Figure size 432x288 with 2 Axes>"
      ]
     },
     "metadata": {
      "needs_background": "light"
     },
     "output_type": "display_data"
    }
   ],
   "source": [
    "disp = plot_confusion_matrix(clf, X_test, y_test, cmap=plt.cm.Blues)  # 混淆矩阵\n",
    "disp.ax_.set_title('XG-Boost Confusion Matrix')\n",
    "plt.show()"
   ]
  },
  {
   "cell_type": "code",
   "execution_count": 48,
   "id": "0cbee45c",
   "metadata": {},
   "outputs": [
    {
     "data": {
      "image/png": "[encoded data removed]",
      "text/plain": [
       "<Figure size 576x360 with 1 Axes>"
      ]
     },
     "metadata": {
      "needs_background": "light"
     },
     "output_type": "display_data"
    }
   ],
   "source": [
    "plt.rcParams['font.sans-serif'] = ['Arial Unicode MS']  # MacOS 显示中文\n",
    "fig, ax = plt.subplots(figsize=(8, 5))\n",
    "clf.get_booster().feature_names = list(X.columns)\n",
    "xgb.plot_importance(clf.get_booster(), ax=ax, height=0.5, grid=True, max_num_features=10)\n",
    "plt.show()"
   ]
  },
  {
   "cell_type": "markdown",
   "id": "80a7a879",
   "metadata": {},
   "source": [
    "### ROC"
   ]
  },
  {
   "cell_type": "code",
   "execution_count": 49,
   "id": "48043b7c",
   "metadata": {},
   "outputs": [],
   "source": [
    "color = [\"#3a5e8cFF\", \"#10a53dFF\", \"#541352FF\", \"#ffcf20FF\", \"#2f9aa0FF\"]\n",
    "def seq(start, stop, by, round_n=3):\n",
    "    return [round(x, round_n) for x in list(np.arange(start, stop, by))]"
   ]
  },
  {
   "cell_type": "code",
   "execution_count": 50,
   "id": "a733ef08",
   "metadata": {},
   "outputs": [],
   "source": [
    "predicted_probabilities = clf.predict_proba(X_test)[:,1]"
   ]
  },
  {
   "cell_type": "code",
   "execution_count": 51,
   "id": "e4f44203",
   "metadata": {},
   "outputs": [],
   "source": [
    "# discrete ROC (with thresholds in steps) on test data -------------------------------------------------\n",
    "thresholds = seq(0, 1, by = 0.01)\n",
    "cm = dict()\n",
    "true_positive_rates = []\n",
    "false_positive_rates = []\n",
    "prediction = []\n",
    "for thr in thresholds:\n",
    "    prediction = np.where(predicted_probabilities < thr, 0, 1)\n",
    "    cm_thr = confusion_matrix(y_test, prediction, labels=[0, 1])\n",
    "    cm[thr] = cm_thr\n",
    "    tn, fp, fn, tp = cm_thr.ravel()\n",
    "    true_positive_rates.append(tp/(tp+fn))\n",
    "    false_positive_rates.append(fp/(fp+tn))"
   ]
  },
  {
   "cell_type": "code",
   "execution_count": 52,
   "id": "88297313",
   "metadata": {},
   "outputs": [],
   "source": [
    "tpr_fpr_for_thresholds = pd.DataFrame(\n",
    "    {'thresholds': thresholds,\n",
    "     'true_positive_rates': true_positive_rates,\n",
    "     'false_positive_rates': false_positive_rates})"
   ]
  },
  {
   "cell_type": "code",
   "execution_count": 53,
   "id": "1900a203",
   "metadata": {},
   "outputs": [
    {
     "data": {
      "image/png": "[encoded data removed]",
      "text/plain": [
       "<Figure size 640x480 with 1 Axes>"
      ]
     },
     "metadata": {},
     "output_type": "display_data"
    },
    {
     "data": {
      "text/plain": [
       "<ggplot: (8777262714321)>"
      ]
     },
     "execution_count": 53,
     "metadata": {},
     "output_type": "execute_result"
    }
   ],
   "source": [
    "ggplot(tpr_fpr_for_thresholds, aes(x = 'false_positive_rates', y = 'true_positive_rates', color='thresholds'))\\\n",
    "        + labs(x = \"False positive rate (1 - Specificity)\", y = \"True positive rate (Sensitivity)\")\\\n",
    "        + geom_point(size=2, alpha=0.8) + scale_color_continuous(trans = 'reverse')\\\n",
    "        + scale_x_continuous(limits=(0,1), breaks = seq(0, 1.01, by = 0.1))\\\n",
    "        + scale_y_continuous(limits=(0,1), breaks = seq(0, 1.01, by = 0.1))\\\n",
    "        + theme_bw()\\\n",
    "        +theme(legend_position=\"right\",\n",
    "            axis_text=element_text(size=5),\n",
    "            axis_title=element_text(size=5),\n",
    "            legend_text = element_text(size = 4),\n",
    "            legend_title = element_text(size = 4),\n",
    "            legend_key_size=6)"
   ]
  },
  {
   "cell_type": "code",
   "execution_count": 54,
   "id": "918e9e42",
   "metadata": {},
   "outputs": [],
   "source": [
    "def create_roc_plot(y_true, y_pred):\n",
    "    fpr, tpr, thresholds = roc_curve(y_true, y_pred)\n",
    "    all_coords = pd.DataFrame({\n",
    "        'fpr': fpr,\n",
    "        'tpr': tpr,\n",
    "        'thresholds': thresholds\n",
    "    })\n",
    "    \n",
    "    plot = ggplot(all_coords, aes(x = 'fpr', y = 'tpr')) \\\n",
    "        + geom_line(color=color[0], size = 0.7) \\\n",
    "        + geom_area(position = 'identity', fill = 'mediumaquamarine', alpha = 0.3) \\\n",
    "        + xlab(\"False Positive Rate (1-Specifity)\") \\\n",
    "        + ylab(\"True Positive Rate (Sensitivity)\") \\\n",
    "        + geom_abline(intercept = 0, slope = 1,  linetype = \"dotted\", color = \"black\") \\\n",
    "        + scale_y_continuous(limits = (0, 1), breaks = seq(0, 1, .1), expand = (0, 0.01)) \\\n",
    "        + scale_x_continuous(limits = (0, 1), breaks = seq(0, 1, .1), expand = (0.01, 0)) \\\n",
    "        + theme_bw()\n",
    "    return(plot)"
   ]
  },
  {
   "cell_type": "code",
   "execution_count": 55,
   "id": "57152df5",
   "metadata": {},
   "outputs": [
    {
     "data": {
      "image/png": "[encoded data removed]",
      "text/plain": [
       "<Figure size 640x480 with 1 Axes>"
      ]
     },
     "metadata": {},
     "output_type": "display_data"
    },
    {
     "data": {
      "text/plain": [
       "<ggplot: (8777334716225)>"
      ]
     },
     "execution_count": 55,
     "metadata": {},
     "output_type": "execute_result"
    }
   ],
   "source": [
    "create_roc_plot(y_test, predicted_probabilities)"
   ]
  },
  {
   "cell_type": "markdown",
   "id": "671f3abc",
   "metadata": {},
   "source": [
    "## Model Compare"
   ]
  },
  {
   "cell_type": "code",
   "execution_count": 56,
   "id": "ddfbb4ea",
   "metadata": {},
   "outputs": [],
   "source": [
    "com = {'B-P Neural Network': [precision_score(y_test, bp.predict(X_test)), recall_score(y_test, bp.predict(X_test))],\n",
    "       'Random Forest': [precision_score(y_test, rf_best.predict(X_test)), recall_score(y_test, rf_best.predict(X_test))],\n",
    "       'XG-Boost': [precision_score(y_test, clf.predict(X_test)), recall_score(y_test, clf.predict(X_test))]}"
   ]
  },
  {
   "cell_type": "code",
   "execution_count": 57,
   "id": "ebfd2973",
   "metadata": {},
   "outputs": [
    {
     "data": {
      "text/html": [
       "<div>\n",
       "<style scoped>\n",
       "    .dataframe tbody tr th:only-of-type {\n",
       "        vertical-align: middle;\n",
       "    }\n",
       "\n",
       "    .dataframe tbody tr th {\n",
       "        vertical-align: top;\n",
       "    }\n",
       "\n",
       "    .dataframe thead th {\n",
       "        text-align: right;\n",
       "    }\n",
       "</style>\n",
       "<table border=\"1\" class=\"dataframe\">\n",
       "  <thead>\n",
       "    <tr style=\"text-align: right;\">\n",
       "      <th></th>\n",
       "      <th>B-P Neural Network</th>\n",
       "      <th>Random Forest</th>\n",
       "      <th>XG-Boost</th>\n",
       "    </tr>\n",
       "  </thead>\n",
       "  <tbody>\n",
       "    <tr>\n",
       "      <th>Precision</th>\n",
       "      <td>0.658584</td>\n",
       "      <td>0.605455</td>\n",
       "      <td>0.646660</td>\n",
       "    </tr>\n",
       "    <tr>\n",
       "      <th>Recall</th>\n",
       "      <td>0.620658</td>\n",
       "      <td>0.608775</td>\n",
       "      <td>0.610603</td>\n",
       "    </tr>\n",
       "  </tbody>\n",
       "</table>\n",
       "</div>"
      ],
      "text/plain": [
       "           B-P Neural Network  Random Forest  XG-Boost\n",
       "Precision            0.658584       0.605455  0.646660\n",
       "Recall               0.620658       0.608775  0.610603"
      ]
     },
     "execution_count": 57,
     "metadata": {},
     "output_type": "execute_result"
    }
   ],
   "source": [
    "compare = pd.DataFrame(com, index=['Precision', 'Recall'])\n",
    "compare"
   ]
  },
  {
   "cell_type": "markdown",
   "id": "bda44892",
   "metadata": {},
   "source": [
    "## Overall Logit"
   ]
  },
  {
   "cell_type": "code",
   "execution_count": 58,
   "id": "16ae11e9",
   "metadata": {},
   "outputs": [],
   "source": [
    "import statsmodels.api as sm"
   ]
  },
  {
   "cell_type": "code",
   "execution_count": 59,
   "id": "5269afc3",
   "metadata": {},
   "outputs": [],
   "source": [
    "results = sm.OLS(y, X).fit()"
   ]
  },
  {
   "cell_type": "code",
   "execution_count": 60,
   "id": "30ac6975",
   "metadata": {},
   "outputs": [
    {
     "data": {
      "text/html": [
       "<table class=\"simpletable\">\n",
       "<caption>OLS Regression Results</caption>\n",
       "<tr>\n",
       "  <th>Dep. Variable:</th>    <td>Expect_Children_Number</td> <th>  R-squared (uncentered):</th>      <td>   0.551</td>\n",
       "</tr>\n",
       "<tr>\n",
       "  <th>Model:</th>                      <td>OLS</td>          <th>  Adj. R-squared (uncentered):</th> <td>   0.550</td>\n",
       "</tr>\n",
       "<tr>\n",
       "  <th>Method:</th>                <td>Least Squares</td>     <th>  F-statistic:       </th>          <td>   734.0</td>\n",
       "</tr>\n",
       "<tr>\n",
       "  <th>Date:</th>                <td>Thu, 27 Jan 2022</td>    <th>  Prob (F-statistic):</th>           <td>  0.00</td> \n",
       "</tr>\n",
       "<tr>\n",
       "  <th>Time:</th>                    <td>16:14:54</td>        <th>  Log-Likelihood:    </th>          <td> -4831.7</td>\n",
       "</tr>\n",
       "<tr>\n",
       "  <th>No. Observations:</th>         <td>  7190</td>         <th>  AIC:               </th>          <td>   9687.</td>\n",
       "</tr>\n",
       "<tr>\n",
       "  <th>Df Residuals:</th>             <td>  7178</td>         <th>  BIC:               </th>          <td>   9770.</td>\n",
       "</tr>\n",
       "<tr>\n",
       "  <th>Df Model:</th>                 <td>    12</td>         <th>                     </th>              <td> </td>   \n",
       "</tr>\n",
       "<tr>\n",
       "  <th>Covariance Type:</th>         <td>nonrobust</td>       <th>                     </th>              <td> </td>   \n",
       "</tr>\n",
       "</table>\n",
       "<table class=\"simpletable\">\n",
       "<tr>\n",
       "          <td></td>            <th>coef</th>     <th>std err</th>      <th>t</th>      <th>P>|t|</th>  <th>[0.025</th>    <th>0.975]</th>  \n",
       "</tr>\n",
       "<tr>\n",
       "  <th>District</th>         <td>    0.0847</td> <td>    0.006</td> <td>   14.233</td> <td> 0.000</td> <td>    0.073</td> <td>    0.096</td>\n",
       "</tr>\n",
       "<tr>\n",
       "  <th>Gender</th>           <td>    0.0165</td> <td>    0.013</td> <td>    1.246</td> <td> 0.213</td> <td>   -0.009</td> <td>    0.042</td>\n",
       "</tr>\n",
       "<tr>\n",
       "  <th>Age</th>              <td>    0.0050</td> <td>    0.000</td> <td>   12.635</td> <td> 0.000</td> <td>    0.004</td> <td>    0.006</td>\n",
       "</tr>\n",
       "<tr>\n",
       "  <th>Nation</th>           <td>    0.0026</td> <td>    0.023</td> <td>    0.113</td> <td> 0.910</td> <td>   -0.042</td> <td>    0.047</td>\n",
       "</tr>\n",
       "<tr>\n",
       "  <th>Health</th>           <td>    0.0003</td> <td>    0.006</td> <td>    0.046</td> <td> 0.963</td> <td>   -0.011</td> <td>    0.011</td>\n",
       "</tr>\n",
       "<tr>\n",
       "  <th>Education</th>        <td>   -0.0142</td> <td>    0.005</td> <td>   -2.735</td> <td> 0.006</td> <td>   -0.024</td> <td>   -0.004</td>\n",
       "</tr>\n",
       "<tr>\n",
       "  <th>Marriage</th>         <td>    0.0251</td> <td>    0.014</td> <td>    1.839</td> <td> 0.066</td> <td>   -0.002</td> <td>    0.052</td>\n",
       "</tr>\n",
       "<tr>\n",
       "  <th>Income</th>           <td>    0.0316</td> <td>    0.008</td> <td>    3.895</td> <td> 0.000</td> <td>    0.016</td> <td>    0.047</td>\n",
       "</tr>\n",
       "<tr>\n",
       "  <th>Household_Size</th>   <td>    0.0297</td> <td>    0.004</td> <td>    6.786</td> <td> 0.000</td> <td>    0.021</td> <td>    0.038</td>\n",
       "</tr>\n",
       "<tr>\n",
       "  <th>Religion</th>         <td>   -0.0791</td> <td>    0.020</td> <td>   -4.057</td> <td> 0.000</td> <td>   -0.117</td> <td>   -0.041</td>\n",
       "</tr>\n",
       "<tr>\n",
       "  <th>Health_Insurance</th> <td>    0.0297</td> <td>    0.020</td> <td>    1.498</td> <td> 0.134</td> <td>   -0.009</td> <td>    0.069</td>\n",
       "</tr>\n",
       "<tr>\n",
       "  <th>Hukou</th>            <td>    0.1219</td> <td>    0.012</td> <td>    9.808</td> <td> 0.000</td> <td>    0.098</td> <td>    0.146</td>\n",
       "</tr>\n",
       "</table>\n",
       "<table class=\"simpletable\">\n",
       "<tr>\n",
       "  <th>Omnibus:</th>       <td>35839.023</td> <th>  Durbin-Watson:     </th> <td>   2.026</td> \n",
       "</tr>\n",
       "<tr>\n",
       "  <th>Prob(Omnibus):</th>  <td> 0.000</td>   <th>  Jarque-Bera (JB):  </th> <td> 768.446</td> \n",
       "</tr>\n",
       "<tr>\n",
       "  <th>Skew:</th>           <td> 0.026</td>   <th>  Prob(JB):          </th> <td>1.36e-167</td>\n",
       "</tr>\n",
       "<tr>\n",
       "  <th>Kurtosis:</th>       <td> 1.399</td>   <th>  Cond. No.          </th> <td>    206.</td> \n",
       "</tr>\n",
       "</table><br/><br/>Notes:<br/>[1] R² is computed without centering (uncentered) since the model does not contain a constant.<br/>[2] Standard Errors assume that the covariance matrix of the errors is correctly specified."
      ],
      "text/plain": [
       "<class 'statsmodels.iolib.summary.Summary'>\n",
       "\"\"\"\n",
       "                                   OLS Regression Results                                  \n",
       "===========================================================================================\n",
       "Dep. Variable:     Expect_Children_Number   R-squared (uncentered):                   0.551\n",
       "Model:                                OLS   Adj. R-squared (uncentered):              0.550\n",
       "Method:                     Least Squares   F-statistic:                              734.0\n",
       "Date:                    Thu, 27 Jan 2022   Prob (F-statistic):                        0.00\n",
       "Time:                            16:14:54   Log-Likelihood:                         -4831.7\n",
       "No. Observations:                    7190   AIC:                                      9687.\n",
       "Df Residuals:                        7178   BIC:                                      9770.\n",
       "Df Model:                              12                                                  \n",
       "Covariance Type:                nonrobust                                                  \n",
       "====================================================================================\n",
       "                       coef    std err          t      P>|t|      [0.025      0.975]\n",
       "------------------------------------------------------------------------------------\n",
       "District             0.0847      0.006     14.233      0.000       0.073       0.096\n",
       "Gender               0.0165      0.013      1.246      0.213      -0.009       0.042\n",
       "Age                  0.0050      0.000     12.635      0.000       0.004       0.006\n",
       "Nation               0.0026      0.023      0.113      0.910      -0.042       0.047\n",
       "Health               0.0003      0.006      0.046      0.963      -0.011       0.011\n",
       "Education           -0.0142      0.005     -2.735      0.006      -0.024      -0.004\n",
       "Marriage             0.0251      0.014      1.839      0.066      -0.002       0.052\n",
       "Income               0.0316      0.008      3.895      0.000       0.016       0.047\n",
       "Household_Size       0.0297      0.004      6.786      0.000       0.021       0.038\n",
       "Religion            -0.0791      0.020     -4.057      0.000      -0.117      -0.041\n",
       "Health_Insurance     0.0297      0.020      1.498      0.134      -0.009       0.069\n",
       "Hukou                0.1219      0.012      9.808      0.000       0.098       0.146\n",
       "==============================================================================\n",
       "Omnibus:                    35839.023   Durbin-Watson:                   2.026\n",
       "Prob(Omnibus):                  0.000   Jarque-Bera (JB):              768.446\n",
       "Skew:                           0.026   Prob(JB):                    1.36e-167\n",
       "Kurtosis:                       1.399   Cond. No.                         206.\n",
       "==============================================================================\n",
       "\n",
       "Notes:\n",
       "[1] R² is computed without centering (uncentered) since the model does not contain a constant.\n",
       "[2] Standard Errors assume that the covariance matrix of the errors is correctly specified.\n",
       "\"\"\""
      ]
     },
     "execution_count": 60,
     "metadata": {},
     "output_type": "execute_result"
    }
   ],
   "source": [
    "results.summary()"
   ]
  },
  {
   "cell_type": "markdown",
   "id": "2b863035",
   "metadata": {},
   "source": [
    "## Male and Female Logit"
   ]
  },
  {
   "cell_type": "code",
   "execution_count": 61,
   "id": "91498382",
   "metadata": {},
   "outputs": [],
   "source": [
    "female = new_data[new_data['Gender'] == 0]\n",
    "X_female = female.drop([target, 'Gender'], axis=1)\n",
    "y_female = female[target]"
   ]
  },
  {
   "cell_type": "code",
   "execution_count": 62,
   "id": "0cd7b07f",
   "metadata": {},
   "outputs": [
    {
     "data": {
      "text/html": [
       "<table class=\"simpletable\">\n",
       "<caption>OLS Regression Results</caption>\n",
       "<tr>\n",
       "  <th>Dep. Variable:</th>    <td>Expect_Children_Number</td> <th>  R-squared (uncentered):</th>      <td>   0.501</td>\n",
       "</tr>\n",
       "<tr>\n",
       "  <th>Model:</th>                      <td>OLS</td>          <th>  Adj. R-squared (uncentered):</th> <td>   0.499</td>\n",
       "</tr>\n",
       "<tr>\n",
       "  <th>Method:</th>                <td>Least Squares</td>     <th>  F-statistic:       </th>          <td>   224.8</td>\n",
       "</tr>\n",
       "<tr>\n",
       "  <th>Date:</th>                <td>Thu, 27 Jan 2022</td>    <th>  Prob (F-statistic):</th>           <td>  0.00</td> \n",
       "</tr>\n",
       "<tr>\n",
       "  <th>Time:</th>                    <td>16:14:55</td>        <th>  Log-Likelihood:    </th>          <td> -1664.2</td>\n",
       "</tr>\n",
       "<tr>\n",
       "  <th>No. Observations:</th>         <td>  2473</td>         <th>  AIC:               </th>          <td>   3350.</td>\n",
       "</tr>\n",
       "<tr>\n",
       "  <th>Df Residuals:</th>             <td>  2462</td>         <th>  BIC:               </th>          <td>   3414.</td>\n",
       "</tr>\n",
       "<tr>\n",
       "  <th>Df Model:</th>                 <td>    11</td>         <th>                     </th>              <td> </td>   \n",
       "</tr>\n",
       "<tr>\n",
       "  <th>Covariance Type:</th>         <td>nonrobust</td>       <th>                     </th>              <td> </td>   \n",
       "</tr>\n",
       "</table>\n",
       "<table class=\"simpletable\">\n",
       "<tr>\n",
       "          <td></td>            <th>coef</th>     <th>std err</th>      <th>t</th>      <th>P>|t|</th>  <th>[0.025</th>    <th>0.975]</th>  \n",
       "</tr>\n",
       "<tr>\n",
       "  <th>District</th>         <td>    0.0893</td> <td>    0.010</td> <td>    8.741</td> <td> 0.000</td> <td>    0.069</td> <td>    0.109</td>\n",
       "</tr>\n",
       "<tr>\n",
       "  <th>Age</th>              <td>    0.0056</td> <td>    0.001</td> <td>    5.434</td> <td> 0.000</td> <td>    0.004</td> <td>    0.008</td>\n",
       "</tr>\n",
       "<tr>\n",
       "  <th>Nation</th>           <td>    0.0191</td> <td>    0.038</td> <td>    0.505</td> <td> 0.613</td> <td>   -0.055</td> <td>    0.093</td>\n",
       "</tr>\n",
       "<tr>\n",
       "  <th>Health</th>           <td>    0.0010</td> <td>    0.010</td> <td>    0.096</td> <td> 0.924</td> <td>   -0.019</td> <td>    0.021</td>\n",
       "</tr>\n",
       "<tr>\n",
       "  <th>Education</th>        <td>   -0.0263</td> <td>    0.009</td> <td>   -3.003</td> <td> 0.003</td> <td>   -0.044</td> <td>   -0.009</td>\n",
       "</tr>\n",
       "<tr>\n",
       "  <th>Marriage</th>         <td>    0.0018</td> <td>    0.026</td> <td>    0.069</td> <td> 0.945</td> <td>   -0.049</td> <td>    0.052</td>\n",
       "</tr>\n",
       "<tr>\n",
       "  <th>Income</th>           <td>    0.0221</td> <td>    0.014</td> <td>    1.552</td> <td> 0.121</td> <td>   -0.006</td> <td>    0.050</td>\n",
       "</tr>\n",
       "<tr>\n",
       "  <th>Household_Size</th>   <td>    0.0372</td> <td>    0.008</td> <td>    4.944</td> <td> 0.000</td> <td>    0.022</td> <td>    0.052</td>\n",
       "</tr>\n",
       "<tr>\n",
       "  <th>Religion</th>         <td>   -0.0598</td> <td>    0.032</td> <td>   -1.842</td> <td> 0.066</td> <td>   -0.123</td> <td>    0.004</td>\n",
       "</tr>\n",
       "<tr>\n",
       "  <th>Health_Insurance</th> <td>    0.0427</td> <td>    0.033</td> <td>    1.305</td> <td> 0.192</td> <td>   -0.021</td> <td>    0.107</td>\n",
       "</tr>\n",
       "<tr>\n",
       "  <th>Hukou</th>            <td>    0.0873</td> <td>    0.021</td> <td>    4.084</td> <td> 0.000</td> <td>    0.045</td> <td>    0.129</td>\n",
       "</tr>\n",
       "</table>\n",
       "<table class=\"simpletable\">\n",
       "<tr>\n",
       "  <th>Omnibus:</th>       <td>13130.479</td> <th>  Durbin-Watson:     </th> <td>   1.955</td>\n",
       "</tr>\n",
       "<tr>\n",
       "  <th>Prob(Omnibus):</th>  <td> 0.000</td>   <th>  Jarque-Bera (JB):  </th> <td> 275.236</td>\n",
       "</tr>\n",
       "<tr>\n",
       "  <th>Skew:</th>           <td> 0.198</td>   <th>  Prob(JB):          </th> <td>1.71e-60</td>\n",
       "</tr>\n",
       "<tr>\n",
       "  <th>Kurtosis:</th>       <td> 1.414</td>   <th>  Cond. No.          </th> <td>    158.</td>\n",
       "</tr>\n",
       "</table><br/><br/>Notes:<br/>[1] R² is computed without centering (uncentered) since the model does not contain a constant.<br/>[2] Standard Errors assume that the covariance matrix of the errors is correctly specified."
      ],
      "text/plain": [
       "<class 'statsmodels.iolib.summary.Summary'>\n",
       "\"\"\"\n",
       "                                   OLS Regression Results                                  \n",
       "===========================================================================================\n",
       "Dep. Variable:     Expect_Children_Number   R-squared (uncentered):                   0.501\n",
       "Model:                                OLS   Adj. R-squared (uncentered):              0.499\n",
       "Method:                     Least Squares   F-statistic:                              224.8\n",
       "Date:                    Thu, 27 Jan 2022   Prob (F-statistic):                        0.00\n",
       "Time:                            16:14:55   Log-Likelihood:                         -1664.2\n",
       "No. Observations:                    2473   AIC:                                      3350.\n",
       "Df Residuals:                        2462   BIC:                                      3414.\n",
       "Df Model:                              11                                                  \n",
       "Covariance Type:                nonrobust                                                  \n",
       "====================================================================================\n",
       "                       coef    std err          t      P>|t|      [0.025      0.975]\n",
       "------------------------------------------------------------------------------------\n",
       "District             0.0893      0.010      8.741      0.000       0.069       0.109\n",
       "Age                  0.0056      0.001      5.434      0.000       0.004       0.008\n",
       "Nation               0.0191      0.038      0.505      0.613      -0.055       0.093\n",
       "Health               0.0010      0.010      0.096      0.924      -0.019       0.021\n",
       "Education           -0.0263      0.009     -3.003      0.003      -0.044      -0.009\n",
       "Marriage             0.0018      0.026      0.069      0.945      -0.049       0.052\n",
       "Income               0.0221      0.014      1.552      0.121      -0.006       0.050\n",
       "Household_Size       0.0372      0.008      4.944      0.000       0.022       0.052\n",
       "Religion            -0.0598      0.032     -1.842      0.066      -0.123       0.004\n",
       "Health_Insurance     0.0427      0.033      1.305      0.192      -0.021       0.107\n",
       "Hukou                0.0873      0.021      4.084      0.000       0.045       0.129\n",
       "==============================================================================\n",
       "Omnibus:                    13130.479   Durbin-Watson:                   1.955\n",
       "Prob(Omnibus):                  0.000   Jarque-Bera (JB):              275.236\n",
       "Skew:                           0.198   Prob(JB):                     1.71e-60\n",
       "Kurtosis:                       1.414   Cond. No.                         158.\n",
       "==============================================================================\n",
       "\n",
       "Notes:\n",
       "[1] R² is computed without centering (uncentered) since the model does not contain a constant.\n",
       "[2] Standard Errors assume that the covariance matrix of the errors is correctly specified.\n",
       "\"\"\""
      ]
     },
     "execution_count": 62,
     "metadata": {},
     "output_type": "execute_result"
    }
   ],
   "source": [
    "female_res = sm.OLS(y_female, X_female).fit()\n",
    "female_res.summary()"
   ]
  },
  {
   "cell_type": "code",
   "execution_count": 63,
   "id": "de48a804",
   "metadata": {},
   "outputs": [],
   "source": [
    "male = new_data[new_data['Gender'] == 1]\n",
    "X_male = male.drop([target, 'Gender'], axis=1)\n",
    "y_male = male[target]"
   ]
  },
  {
   "cell_type": "code",
   "execution_count": 64,
   "id": "62347777",
   "metadata": {},
   "outputs": [
    {
     "data": {
      "text/html": [
       "<table class=\"simpletable\">\n",
       "<caption>OLS Regression Results</caption>\n",
       "<tr>\n",
       "  <th>Dep. Variable:</th>    <td>Expect_Children_Number</td> <th>  R-squared (uncentered):</th>      <td>   0.574</td>\n",
       "</tr>\n",
       "<tr>\n",
       "  <th>Model:</th>                      <td>OLS</td>          <th>  Adj. R-squared (uncentered):</th> <td>   0.573</td>\n",
       "</tr>\n",
       "<tr>\n",
       "  <th>Method:</th>                <td>Least Squares</td>     <th>  F-statistic:       </th>          <td>   577.1</td>\n",
       "</tr>\n",
       "<tr>\n",
       "  <th>Date:</th>                <td>Thu, 27 Jan 2022</td>    <th>  Prob (F-statistic):</th>           <td>  0.00</td> \n",
       "</tr>\n",
       "<tr>\n",
       "  <th>Time:</th>                    <td>16:14:56</td>        <th>  Log-Likelihood:    </th>          <td> -3162.9</td>\n",
       "</tr>\n",
       "<tr>\n",
       "  <th>No. Observations:</th>         <td>  4717</td>         <th>  AIC:               </th>          <td>   6348.</td>\n",
       "</tr>\n",
       "<tr>\n",
       "  <th>Df Residuals:</th>             <td>  4706</td>         <th>  BIC:               </th>          <td>   6419.</td>\n",
       "</tr>\n",
       "<tr>\n",
       "  <th>Df Model:</th>                 <td>    11</td>         <th>                     </th>              <td> </td>   \n",
       "</tr>\n",
       "<tr>\n",
       "  <th>Covariance Type:</th>         <td>nonrobust</td>       <th>                     </th>              <td> </td>   \n",
       "</tr>\n",
       "</table>\n",
       "<table class=\"simpletable\">\n",
       "<tr>\n",
       "          <td></td>            <th>coef</th>     <th>std err</th>      <th>t</th>      <th>P>|t|</th>  <th>[0.025</th>    <th>0.975]</th>  \n",
       "</tr>\n",
       "<tr>\n",
       "  <th>District</th>         <td>    0.0823</td> <td>    0.007</td> <td>   11.227</td> <td> 0.000</td> <td>    0.068</td> <td>    0.097</td>\n",
       "</tr>\n",
       "<tr>\n",
       "  <th>Age</th>              <td>    0.0051</td> <td>    0.000</td> <td>   12.452</td> <td> 0.000</td> <td>    0.004</td> <td>    0.006</td>\n",
       "</tr>\n",
       "<tr>\n",
       "  <th>Nation</th>           <td>   -0.0080</td> <td>    0.028</td> <td>   -0.282</td> <td> 0.778</td> <td>   -0.064</td> <td>    0.048</td>\n",
       "</tr>\n",
       "<tr>\n",
       "  <th>Health</th>           <td>    0.0003</td> <td>    0.007</td> <td>    0.045</td> <td> 0.964</td> <td>   -0.013</td> <td>    0.014</td>\n",
       "</tr>\n",
       "<tr>\n",
       "  <th>Education</th>        <td>   -0.0068</td> <td>    0.007</td> <td>   -1.043</td> <td> 0.297</td> <td>   -0.020</td> <td>    0.006</td>\n",
       "</tr>\n",
       "<tr>\n",
       "  <th>Marriage</th>         <td>    0.0321</td> <td>    0.017</td> <td>    1.943</td> <td> 0.052</td> <td>   -0.000</td> <td>    0.064</td>\n",
       "</tr>\n",
       "<tr>\n",
       "  <th>Income</th>           <td>    0.0370</td> <td>    0.010</td> <td>    3.741</td> <td> 0.000</td> <td>    0.018</td> <td>    0.056</td>\n",
       "</tr>\n",
       "<tr>\n",
       "  <th>Household_Size</th>   <td>    0.0263</td> <td>    0.005</td> <td>    4.868</td> <td> 0.000</td> <td>    0.016</td> <td>    0.037</td>\n",
       "</tr>\n",
       "<tr>\n",
       "  <th>Religion</th>         <td>   -0.0873</td> <td>    0.025</td> <td>   -3.539</td> <td> 0.000</td> <td>   -0.136</td> <td>   -0.039</td>\n",
       "</tr>\n",
       "<tr>\n",
       "  <th>Health_Insurance</th> <td>    0.0215</td> <td>    0.025</td> <td>    0.850</td> <td> 0.395</td> <td>   -0.028</td> <td>    0.071</td>\n",
       "</tr>\n",
       "<tr>\n",
       "  <th>Hukou</th>            <td>    0.1429</td> <td>    0.015</td> <td>    9.317</td> <td> 0.000</td> <td>    0.113</td> <td>    0.173</td>\n",
       "</tr>\n",
       "</table>\n",
       "<table class=\"simpletable\">\n",
       "<tr>\n",
       "  <th>Omnibus:</th>       <td>23723.391</td> <th>  Durbin-Watson:     </th> <td>   2.071</td> \n",
       "</tr>\n",
       "<tr>\n",
       "  <th>Prob(Omnibus):</th>  <td> 0.000</td>   <th>  Jarque-Bera (JB):  </th> <td> 507.281</td> \n",
       "</tr>\n",
       "<tr>\n",
       "  <th>Skew:</th>           <td>-0.064</td>   <th>  Prob(JB):          </th> <td>7.00e-111</td>\n",
       "</tr>\n",
       "<tr>\n",
       "  <th>Kurtosis:</th>       <td> 1.399</td>   <th>  Cond. No.          </th> <td>    229.</td> \n",
       "</tr>\n",
       "</table><br/><br/>Notes:<br/>[1] R² is computed without centering (uncentered) since the model does not contain a constant.<br/>[2] Standard Errors assume that the covariance matrix of the errors is correctly specified."
      ],
      "text/plain": [
       "<class 'statsmodels.iolib.summary.Summary'>\n",
       "\"\"\"\n",
       "                                   OLS Regression Results                                  \n",
       "===========================================================================================\n",
       "Dep. Variable:     Expect_Children_Number   R-squared (uncentered):                   0.574\n",
       "Model:                                OLS   Adj. R-squared (uncentered):              0.573\n",
       "Method:                     Least Squares   F-statistic:                              577.1\n",
       "Date:                    Thu, 27 Jan 2022   Prob (F-statistic):                        0.00\n",
       "Time:                            16:14:56   Log-Likelihood:                         -3162.9\n",
       "No. Observations:                    4717   AIC:                                      6348.\n",
       "Df Residuals:                        4706   BIC:                                      6419.\n",
       "Df Model:                              11                                                  \n",
       "Covariance Type:                nonrobust                                                  \n",
       "====================================================================================\n",
       "                       coef    std err          t      P>|t|      [0.025      0.975]\n",
       "------------------------------------------------------------------------------------\n",
       "District             0.0823      0.007     11.227      0.000       0.068       0.097\n",
       "Age                  0.0051      0.000     12.452      0.000       0.004       0.006\n",
       "Nation              -0.0080      0.028     -0.282      0.778      -0.064       0.048\n",
       "Health               0.0003      0.007      0.045      0.964      -0.013       0.014\n",
       "Education           -0.0068      0.007     -1.043      0.297      -0.020       0.006\n",
       "Marriage             0.0321      0.017      1.943      0.052      -0.000       0.064\n",
       "Income               0.0370      0.010      3.741      0.000       0.018       0.056\n",
       "Household_Size       0.0263      0.005      4.868      0.000       0.016       0.037\n",
       "Religion            -0.0873      0.025     -3.539      0.000      -0.136      -0.039\n",
       "Health_Insurance     0.0215      0.025      0.850      0.395      -0.028       0.071\n",
       "Hukou                0.1429      0.015      9.317      0.000       0.113       0.173\n",
       "==============================================================================\n",
       "Omnibus:                    23723.391   Durbin-Watson:                   2.071\n",
       "Prob(Omnibus):                  0.000   Jarque-Bera (JB):              507.281\n",
       "Skew:                          -0.064   Prob(JB):                    7.00e-111\n",
       "Kurtosis:                       1.399   Cond. No.                         229.\n",
       "==============================================================================\n",
       "\n",
       "Notes:\n",
       "[1] R² is computed without centering (uncentered) since the model does not contain a constant.\n",
       "[2] Standard Errors assume that the covariance matrix of the errors is correctly specified.\n",
       "\"\"\""
      ]
     },
     "execution_count": 64,
     "metadata": {},
     "output_type": "execute_result"
    }
   ],
   "source": [
    "male_res = sm.OLS(y_male, X_male).fit()\n",
    "male_res.summary()"
   ]
  },
  {
   "cell_type": "markdown",
   "id": "18d30f28",
   "metadata": {},
   "source": [
    "## 2017 Logit"
   ]
  },
  {
   "cell_type": "code",
   "execution_count": 65,
   "id": "5d1b7b86",
   "metadata": {},
   "outputs": [],
   "source": [
    "X_2017 = data_2017.drop([target, 'Survey_Year'], axis=1)\n",
    "y_2017 = data_2017[target]"
   ]
  },
  {
   "cell_type": "code",
   "execution_count": 66,
   "id": "72a76f30",
   "metadata": {},
   "outputs": [
    {
     "data": {
      "text/html": [
       "<table class=\"simpletable\">\n",
       "<caption>OLS Regression Results</caption>\n",
       "<tr>\n",
       "  <th>Dep. Variable:</th>    <td>Expect_Children_Number</td> <th>  R-squared (uncentered):</th>      <td>   0.793</td>\n",
       "</tr>\n",
       "<tr>\n",
       "  <th>Model:</th>                      <td>OLS</td>          <th>  Adj. R-squared (uncentered):</th> <td>   0.793</td>\n",
       "</tr>\n",
       "<tr>\n",
       "  <th>Method:</th>                <td>Least Squares</td>     <th>  F-statistic:       </th>          <td>   2550.</td>\n",
       "</tr>\n",
       "<tr>\n",
       "  <th>Date:</th>                <td>Thu, 27 Jan 2022</td>    <th>  Prob (F-statistic):</th>           <td>  0.00</td> \n",
       "</tr>\n",
       "<tr>\n",
       "  <th>Time:</th>                    <td>16:14:57</td>        <th>  Log-Likelihood:    </th>          <td> -4059.9</td>\n",
       "</tr>\n",
       "<tr>\n",
       "  <th>No. Observations:</th>         <td>  7998</td>         <th>  AIC:               </th>          <td>   8144.</td>\n",
       "</tr>\n",
       "<tr>\n",
       "  <th>Df Residuals:</th>             <td>  7986</td>         <th>  BIC:               </th>          <td>   8228.</td>\n",
       "</tr>\n",
       "<tr>\n",
       "  <th>Df Model:</th>                 <td>    12</td>         <th>                     </th>              <td> </td>   \n",
       "</tr>\n",
       "<tr>\n",
       "  <th>Covariance Type:</th>         <td>nonrobust</td>       <th>                     </th>              <td> </td>   \n",
       "</tr>\n",
       "</table>\n",
       "<table class=\"simpletable\">\n",
       "<tr>\n",
       "          <td></td>            <th>coef</th>     <th>std err</th>      <th>t</th>      <th>P>|t|</th>  <th>[0.025</th>    <th>0.975]</th>  \n",
       "</tr>\n",
       "<tr>\n",
       "  <th>District</th>         <td>    0.0699</td> <td>    0.005</td> <td>   14.504</td> <td> 0.000</td> <td>    0.060</td> <td>    0.079</td>\n",
       "</tr>\n",
       "<tr>\n",
       "  <th>Gender</th>           <td>   -0.0014</td> <td>    0.011</td> <td>   -0.134</td> <td> 0.894</td> <td>   -0.023</td> <td>    0.020</td>\n",
       "</tr>\n",
       "<tr>\n",
       "  <th>Age</th>              <td>    0.0061</td> <td>    0.000</td> <td>   19.175</td> <td> 0.000</td> <td>    0.005</td> <td>    0.007</td>\n",
       "</tr>\n",
       "<tr>\n",
       "  <th>Nation</th>           <td>    0.0055</td> <td>    0.017</td> <td>    0.313</td> <td> 0.755</td> <td>   -0.029</td> <td>    0.040</td>\n",
       "</tr>\n",
       "<tr>\n",
       "  <th>Health</th>           <td>    0.0215</td> <td>    0.004</td> <td>    4.805</td> <td> 0.000</td> <td>    0.013</td> <td>    0.030</td>\n",
       "</tr>\n",
       "<tr>\n",
       "  <th>Education</th>        <td>    0.0205</td> <td>    0.004</td> <td>    4.698</td> <td> 0.000</td> <td>    0.012</td> <td>    0.029</td>\n",
       "</tr>\n",
       "<tr>\n",
       "  <th>Marriage</th>         <td>    0.0274</td> <td>    0.011</td> <td>    2.439</td> <td> 0.015</td> <td>    0.005</td> <td>    0.049</td>\n",
       "</tr>\n",
       "<tr>\n",
       "  <th>Income</th>           <td>    0.0252</td> <td>    0.006</td> <td>    3.897</td> <td> 0.000</td> <td>    0.013</td> <td>    0.038</td>\n",
       "</tr>\n",
       "<tr>\n",
       "  <th>Household_Size</th>   <td>    0.0293</td> <td>    0.003</td> <td>    8.709</td> <td> 0.000</td> <td>    0.023</td> <td>    0.036</td>\n",
       "</tr>\n",
       "<tr>\n",
       "  <th>Religion</th>         <td>   -0.0064</td> <td>    0.015</td> <td>   -0.415</td> <td> 0.678</td> <td>   -0.037</td> <td>    0.024</td>\n",
       "</tr>\n",
       "<tr>\n",
       "  <th>Health_Insurance</th> <td>    0.0732</td> <td>    0.016</td> <td>    4.450</td> <td> 0.000</td> <td>    0.041</td> <td>    0.105</td>\n",
       "</tr>\n",
       "<tr>\n",
       "  <th>Hukou</th>            <td>    0.1200</td> <td>    0.010</td> <td>   11.742</td> <td> 0.000</td> <td>    0.100</td> <td>    0.140</td>\n",
       "</tr>\n",
       "</table>\n",
       "<table class=\"simpletable\">\n",
       "<tr>\n",
       "  <th>Omnibus:</th>       <td>1152.144</td> <th>  Durbin-Watson:     </th> <td>   1.916</td>\n",
       "</tr>\n",
       "<tr>\n",
       "  <th>Prob(Omnibus):</th>  <td> 0.000</td>  <th>  Jarque-Bera (JB):  </th> <td>1726.187</td>\n",
       "</tr>\n",
       "<tr>\n",
       "  <th>Skew:</th>           <td>-1.135</td>  <th>  Prob(JB):          </th> <td>    0.00</td>\n",
       "</tr>\n",
       "<tr>\n",
       "  <th>Kurtosis:</th>       <td> 2.842</td>  <th>  Cond. No.          </th> <td>    203.</td>\n",
       "</tr>\n",
       "</table><br/><br/>Notes:<br/>[1] R² is computed without centering (uncentered) since the model does not contain a constant.<br/>[2] Standard Errors assume that the covariance matrix of the errors is correctly specified."
      ],
      "text/plain": [
       "<class 'statsmodels.iolib.summary.Summary'>\n",
       "\"\"\"\n",
       "                                   OLS Regression Results                                  \n",
       "===========================================================================================\n",
       "Dep. Variable:     Expect_Children_Number   R-squared (uncentered):                   0.793\n",
       "Model:                                OLS   Adj. R-squared (uncentered):              0.793\n",
       "Method:                     Least Squares   F-statistic:                              2550.\n",
       "Date:                    Thu, 27 Jan 2022   Prob (F-statistic):                        0.00\n",
       "Time:                            16:14:57   Log-Likelihood:                         -4059.9\n",
       "No. Observations:                    7998   AIC:                                      8144.\n",
       "Df Residuals:                        7986   BIC:                                      8228.\n",
       "Df Model:                              12                                                  \n",
       "Covariance Type:                nonrobust                                                  \n",
       "====================================================================================\n",
       "                       coef    std err          t      P>|t|      [0.025      0.975]\n",
       "------------------------------------------------------------------------------------\n",
       "District             0.0699      0.005     14.504      0.000       0.060       0.079\n",
       "Gender              -0.0014      0.011     -0.134      0.894      -0.023       0.020\n",
       "Age                  0.0061      0.000     19.175      0.000       0.005       0.007\n",
       "Nation               0.0055      0.017      0.313      0.755      -0.029       0.040\n",
       "Health               0.0215      0.004      4.805      0.000       0.013       0.030\n",
       "Education            0.0205      0.004      4.698      0.000       0.012       0.029\n",
       "Marriage             0.0274      0.011      2.439      0.015       0.005       0.049\n",
       "Income               0.0252      0.006      3.897      0.000       0.013       0.038\n",
       "Household_Size       0.0293      0.003      8.709      0.000       0.023       0.036\n",
       "Religion            -0.0064      0.015     -0.415      0.678      -0.037       0.024\n",
       "Health_Insurance     0.0732      0.016      4.450      0.000       0.041       0.105\n",
       "Hukou                0.1200      0.010     11.742      0.000       0.100       0.140\n",
       "==============================================================================\n",
       "Omnibus:                     1152.144   Durbin-Watson:                   1.916\n",
       "Prob(Omnibus):                  0.000   Jarque-Bera (JB):             1726.187\n",
       "Skew:                          -1.135   Prob(JB):                         0.00\n",
       "Kurtosis:                       2.842   Cond. No.                         203.\n",
       "==============================================================================\n",
       "\n",
       "Notes:\n",
       "[1] R² is computed without centering (uncentered) since the model does not contain a constant.\n",
       "[2] Standard Errors assume that the covariance matrix of the errors is correctly specified.\n",
       "\"\"\""
      ]
     },
     "execution_count": 66,
     "metadata": {},
     "output_type": "execute_result"
    }
   ],
   "source": [
    "res_2017 = sm.OLS(y_2017, X_2017).fit()\n",
    "res_2017.summary()"
   ]
  },
  {
   "cell_type": "markdown",
   "id": "e70a4f69",
   "metadata": {},
   "source": [
    "## 2018 Logit"
   ]
  },
  {
   "cell_type": "code",
   "execution_count": 67,
   "id": "4137955b",
   "metadata": {},
   "outputs": [],
   "source": [
    "X_2018 = data_2018.drop([target, 'Survey_Year'], axis=1)\n",
    "y_2018 = data_2018[target]"
   ]
  },
  {
   "cell_type": "code",
   "execution_count": 68,
   "id": "1136423d",
   "metadata": {},
   "outputs": [
    {
     "data": {
      "text/html": [
       "<table class=\"simpletable\">\n",
       "<caption>OLS Regression Results</caption>\n",
       "<tr>\n",
       "  <th>Dep. Variable:</th>    <td>Expect_Children_Number</td> <th>  R-squared (uncentered):</th>      <td>   0.781</td>\n",
       "</tr>\n",
       "<tr>\n",
       "  <th>Model:</th>                      <td>OLS</td>          <th>  Adj. R-squared (uncentered):</th> <td>   0.781</td>\n",
       "</tr>\n",
       "<tr>\n",
       "  <th>Method:</th>                <td>Least Squares</td>     <th>  F-statistic:       </th>          <td>   2350.</td>\n",
       "</tr>\n",
       "<tr>\n",
       "  <th>Date:</th>                <td>Thu, 27 Jan 2022</td>    <th>  Prob (F-statistic):</th>           <td>  0.00</td> \n",
       "</tr>\n",
       "<tr>\n",
       "  <th>Time:</th>                    <td>16:14:58</td>        <th>  Log-Likelihood:    </th>          <td> -4166.1</td>\n",
       "</tr>\n",
       "<tr>\n",
       "  <th>No. Observations:</th>         <td>  7911</td>         <th>  AIC:               </th>          <td>   8356.</td>\n",
       "</tr>\n",
       "<tr>\n",
       "  <th>Df Residuals:</th>             <td>  7899</td>         <th>  BIC:               </th>          <td>   8440.</td>\n",
       "</tr>\n",
       "<tr>\n",
       "  <th>Df Model:</th>                 <td>    12</td>         <th>                     </th>              <td> </td>   \n",
       "</tr>\n",
       "<tr>\n",
       "  <th>Covariance Type:</th>         <td>nonrobust</td>       <th>                     </th>              <td> </td>   \n",
       "</tr>\n",
       "</table>\n",
       "<table class=\"simpletable\">\n",
       "<tr>\n",
       "          <td></td>            <th>coef</th>     <th>std err</th>      <th>t</th>      <th>P>|t|</th>  <th>[0.025</th>    <th>0.975]</th>  \n",
       "</tr>\n",
       "<tr>\n",
       "  <th>District</th>         <td>    0.0611</td> <td>    0.005</td> <td>   12.308</td> <td> 0.000</td> <td>    0.051</td> <td>    0.071</td>\n",
       "</tr>\n",
       "<tr>\n",
       "  <th>Gender</th>           <td>    0.0256</td> <td>    0.011</td> <td>    2.290</td> <td> 0.022</td> <td>    0.004</td> <td>    0.048</td>\n",
       "</tr>\n",
       "<tr>\n",
       "  <th>Age</th>              <td>    0.0050</td> <td>    0.000</td> <td>   15.504</td> <td> 0.000</td> <td>    0.004</td> <td>    0.006</td>\n",
       "</tr>\n",
       "<tr>\n",
       "  <th>Nation</th>           <td>    0.0135</td> <td>    0.019</td> <td>    0.729</td> <td> 0.466</td> <td>   -0.023</td> <td>    0.050</td>\n",
       "</tr>\n",
       "<tr>\n",
       "  <th>Health</th>           <td>    0.0160</td> <td>    0.005</td> <td>    3.480</td> <td> 0.001</td> <td>    0.007</td> <td>    0.025</td>\n",
       "</tr>\n",
       "<tr>\n",
       "  <th>Education</th>        <td>    0.0039</td> <td>    0.004</td> <td>    0.933</td> <td> 0.351</td> <td>   -0.004</td> <td>    0.012</td>\n",
       "</tr>\n",
       "<tr>\n",
       "  <th>Marriage</th>         <td>    0.0309</td> <td>    0.012</td> <td>    2.649</td> <td> 0.008</td> <td>    0.008</td> <td>    0.054</td>\n",
       "</tr>\n",
       "<tr>\n",
       "  <th>Income</th>           <td>    0.0438</td> <td>    0.007</td> <td>    6.460</td> <td> 0.000</td> <td>    0.031</td> <td>    0.057</td>\n",
       "</tr>\n",
       "<tr>\n",
       "  <th>Household_Size</th>   <td>    0.0352</td> <td>    0.003</td> <td>   10.213</td> <td> 0.000</td> <td>    0.028</td> <td>    0.042</td>\n",
       "</tr>\n",
       "<tr>\n",
       "  <th>Religion</th>         <td>    0.0326</td> <td>    0.016</td> <td>    2.054</td> <td> 0.040</td> <td>    0.001</td> <td>    0.064</td>\n",
       "</tr>\n",
       "<tr>\n",
       "  <th>Health_Insurance</th> <td>    0.0721</td> <td>    0.016</td> <td>    4.411</td> <td> 0.000</td> <td>    0.040</td> <td>    0.104</td>\n",
       "</tr>\n",
       "<tr>\n",
       "  <th>Hukou</th>            <td>    0.1182</td> <td>    0.010</td> <td>   11.666</td> <td> 0.000</td> <td>    0.098</td> <td>    0.138</td>\n",
       "</tr>\n",
       "</table>\n",
       "<table class=\"simpletable\">\n",
       "<tr>\n",
       "  <th>Omnibus:</th>       <td>1084.698</td> <th>  Durbin-Watson:     </th> <td>   1.921</td>\n",
       "</tr>\n",
       "<tr>\n",
       "  <th>Prob(Omnibus):</th>  <td> 0.000</td>  <th>  Jarque-Bera (JB):  </th> <td>1525.174</td>\n",
       "</tr>\n",
       "<tr>\n",
       "  <th>Skew:</th>           <td>-1.061</td>  <th>  Prob(JB):          </th> <td>    0.00</td>\n",
       "</tr>\n",
       "<tr>\n",
       "  <th>Kurtosis:</th>       <td> 2.649</td>  <th>  Cond. No.          </th> <td>    215.</td>\n",
       "</tr>\n",
       "</table><br/><br/>Notes:<br/>[1] R² is computed without centering (uncentered) since the model does not contain a constant.<br/>[2] Standard Errors assume that the covariance matrix of the errors is correctly specified."
      ],
      "text/plain": [
       "<class 'statsmodels.iolib.summary.Summary'>\n",
       "\"\"\"\n",
       "                                   OLS Regression Results                                  \n",
       "===========================================================================================\n",
       "Dep. Variable:     Expect_Children_Number   R-squared (uncentered):                   0.781\n",
       "Model:                                OLS   Adj. R-squared (uncentered):              0.781\n",
       "Method:                     Least Squares   F-statistic:                              2350.\n",
       "Date:                    Thu, 27 Jan 2022   Prob (F-statistic):                        0.00\n",
       "Time:                            16:14:58   Log-Likelihood:                         -4166.1\n",
       "No. Observations:                    7911   AIC:                                      8356.\n",
       "Df Residuals:                        7899   BIC:                                      8440.\n",
       "Df Model:                              12                                                  \n",
       "Covariance Type:                nonrobust                                                  \n",
       "====================================================================================\n",
       "                       coef    std err          t      P>|t|      [0.025      0.975]\n",
       "------------------------------------------------------------------------------------\n",
       "District             0.0611      0.005     12.308      0.000       0.051       0.071\n",
       "Gender               0.0256      0.011      2.290      0.022       0.004       0.048\n",
       "Age                  0.0050      0.000     15.504      0.000       0.004       0.006\n",
       "Nation               0.0135      0.019      0.729      0.466      -0.023       0.050\n",
       "Health               0.0160      0.005      3.480      0.001       0.007       0.025\n",
       "Education            0.0039      0.004      0.933      0.351      -0.004       0.012\n",
       "Marriage             0.0309      0.012      2.649      0.008       0.008       0.054\n",
       "Income               0.0438      0.007      6.460      0.000       0.031       0.057\n",
       "Household_Size       0.0352      0.003     10.213      0.000       0.028       0.042\n",
       "Religion             0.0326      0.016      2.054      0.040       0.001       0.064\n",
       "Health_Insurance     0.0721      0.016      4.411      0.000       0.040       0.104\n",
       "Hukou                0.1182      0.010     11.666      0.000       0.098       0.138\n",
       "==============================================================================\n",
       "Omnibus:                     1084.698   Durbin-Watson:                   1.921\n",
       "Prob(Omnibus):                  0.000   Jarque-Bera (JB):             1525.174\n",
       "Skew:                          -1.061   Prob(JB):                         0.00\n",
       "Kurtosis:                       2.649   Cond. No.                         215.\n",
       "==============================================================================\n",
       "\n",
       "Notes:\n",
       "[1] R² is computed without centering (uncentered) since the model does not contain a constant.\n",
       "[2] Standard Errors assume that the covariance matrix of the errors is correctly specified.\n",
       "\"\"\""
      ]
     },
     "execution_count": 68,
     "metadata": {},
     "output_type": "execute_result"
    }
   ],
   "source": [
    "res_2018 = sm.OLS(y_2018, X_2018).fit()\n",
    "res_2018.summary()"
   ]
  },
  {
   "cell_type": "code",
   "execution_count": null,
   "id": "e57000d8",
   "metadata": {},
   "outputs": [],
   "source": []
  }
 ],
 "metadata": {
  "kernelspec": {
   "display_name": "Python 3",
   "language": "python",
   "name": "python3"
  },
  "language_info": {
   "codemirror_mode": {
    "name": "ipython",
    "version": 3
   },
   "file_extension": ".py",
   "mimetype": "text/x-python",
   "name": "python",
   "nbconvert_exporter": "python",
   "pygments_lexer": "ipython3",
   "version": "3.7.10"
  }
 },
 "nbformat": 4,
 "nbformat_minor": 5
}
